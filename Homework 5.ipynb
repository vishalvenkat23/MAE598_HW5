{
 "cells": [
  {
   "cell_type": "markdown",
   "id": "southern-district",
   "metadata": {},
   "source": [
    "### Problem 1\n",
    "\n",
    "(100 points) Consider the following problem. \n",
    "\n",
    "$$\n",
    "\\begin{eqnarray*}\n",
    "\\hbox{min } f&=& x_1^2+(x_2-3)^2\\\\\n",
    "\\hbox{s.t. } g_1&=& x_2^2-2x_1\\leq 0\\\\\n",
    "             g_2&=& (x_2-1)^2+5x_1-15\\leq 0\\\\\n",
    "\\end{eqnarray*}\n",
    "$$\n",
    "\n",
    "Implement an SQP algorithm with line search to solve this problem, starting from\n",
    "${\\bf x}_0=(1,1)^T$. Incorporate the QP subproblem. Use BFGS\n",
    "approximation for the Hessian of the Lagrangian. Use the\n",
    "merit function and Armijo Line Search to find the step size."
   ]
  },
  {
   "cell_type": "markdown",
   "id": "conservative-niger",
   "metadata": {},
   "source": []
  }
 ],
 "metadata": {
  "kernelspec": {
   "display_name": "Python 3",
   "language": "python",
   "name": "python3"
  },
  "language_info": {
   "codemirror_mode": {
    "name": "ipython",
    "version": 3
   },
   "file_extension": ".py",
   "mimetype": "text/x-python",
   "name": "python",
   "nbconvert_exporter": "python",
   "pygments_lexer": "ipython3",
   "version": "3.7.3"
  }
 },
 "nbformat": 4,
 "nbformat_minor": 5
}
